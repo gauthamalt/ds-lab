{
 "cells": [
  {
   "cell_type": "code",
   "execution_count": 1,
   "id": "d3cfdce3",
   "metadata": {},
   "outputs": [
    {
     "name": "stdout",
     "output_type": "stream",
     "text": [
      "Original List:\n",
      "[10, 20, 30, 40, 50]\n",
      "\n",
      "Converted Series:\n",
      "0    10\n",
      "1    20\n",
      "2    30\n",
      "3    40\n",
      "4    50\n",
      "dtype: int64\n"
     ]
    }
   ],
   "source": [
    "import pandas as pd\n",
    "\n",
    "\n",
    "data_list = [10, 20, 30, 40, 50]\n",
    "\n",
    "\n",
    "data_series = pd.Series(data_list)\n",
    "\n",
    "\n",
    "print(\"Original List:\")\n",
    "print(data_list)\n",
    "print(\"\\nConverted Series:\")\n",
    "print(data_series)\n"
   ]
  },
  {
   "cell_type": "code",
   "execution_count": 4,
   "id": "94d02558",
   "metadata": {},
   "outputs": [
    {
     "name": "stdout",
     "output_type": "stream",
     "text": [
      "0    2021-05-01\n",
      "1    2021-05-02\n",
      "2    2021-05-03\n",
      "3    2021-05-04\n",
      "4    2021-05-05\n",
      "5    2021-05-06\n",
      "6    2021-05-07\n",
      "7    2021-05-08\n",
      "8    2021-05-09\n",
      "9    2021-05-10\n",
      "10   2021-05-11\n",
      "11   2021-05-12\n",
      "dtype: datetime64[ns]\n"
     ]
    }
   ],
   "source": [
    "l = pd.date_range(\"2021-5-1\",\"2021-5-12\")\n",
    "print(pd.Series(l))\n",
    "\n",
    "    "
   ]
  },
  {
   "cell_type": "code",
   "execution_count": 5,
   "id": "d37eb9a7",
   "metadata": {},
   "outputs": [
    {
     "name": "stdout",
     "output_type": "stream",
     "text": [
      "      Name  Age         City\n",
      "0    Alice   25     New York\n",
      "1      Bob   30  Los Angeles\n",
      "2  Charlie   35      Chicago\n",
      "3    David   40      Houston\n"
     ]
    }
   ],
   "source": [
    "\n",
    "\n",
    "\n",
    "data = {\n",
    "    'Name': ['Alice', 'Bob', 'Charlie', 'David'],\n",
    "    'Age': [25, 30, 35, 40],\n",
    "    'City': ['New York', 'Los Angeles', 'Chicago', 'Houston']\n",
    "}\n",
    "\n",
    "\n",
    "df = pd.DataFrame(data)\n",
    "\n",
    "\n",
    "print(df)\n"
   ]
  },
  {
   "cell_type": "code",
   "execution_count": 12,
   "id": "8e7ae159",
   "metadata": {},
   "outputs": [
    {
     "name": "stdout",
     "output_type": "stream",
     "text": [
      "      Name  Age         City\n",
      "0    Alice   25     New York\n",
      "1      Bob   30  Los Angeles\n",
      "2  Charlie   35      Chicago\n",
      "3    David   40      Houston\n"
     ]
    }
   ],
   "source": [
    "import pandas as pd\n",
    "\n",
    "\n",
    "data = [\n",
    "    [\"Alice\", 25, \"New York\"],\n",
    "    [\"Bob\", 30, \"Los Angeles\"],\n",
    "    [\"Charlie\", 35, \"Chicago\"],\n",
    "    [\"David\", 40, \"Houston\"]\n",
    "]\n",
    "\n",
    "\n",
    "df = pd.DataFrame(data, columns=[\"Name\", \"Age\", \"City\"])\n",
    "\n",
    "print(df)\n"
   ]
  },
  {
   "cell_type": "code",
   "execution_count": 13,
   "id": "a0a027cf",
   "metadata": {},
   "outputs": [
    {
     "name": "stdout",
     "output_type": "stream",
     "text": [
      "      Name  Age   Department  Salary\n",
      "0    Alice   28           HR   55000\n",
      "1      Bob   32  Engineering   75000\n",
      "2  Charlie   40    Marketing   60000\n",
      "3    David   25      Finance   60000\n",
      "4      Eve   35  Engineering   80000\n",
      "5    Frank   45           HR   58000\n",
      "6    Grace   29    Marketing   62000\n",
      "7   Hannah   33  Engineering   72000\n",
      "8      Ivy   28      Finance   61000\n",
      "9     Jack   30    Marketing   63000\n"
     ]
    }
   ],
   "source": [
    "\n",
    "csv_file = 'test.csv'\n",
    "\n",
    "df = pd.read_csv(csv_file)\n",
    "print(df)\n"
   ]
  },
  {
   "cell_type": "code",
   "execution_count": 14,
   "id": "9ac4726f",
   "metadata": {},
   "outputs": [
    {
     "name": "stdout",
     "output_type": "stream",
     "text": [
      "      Name  Age         City\n",
      "2  Charlie   35      Chicago\n",
      "1      Bob   30  Los Angeles\n",
      "3    David   30  Los Angeles\n",
      "0    Alice   25     New York\n",
      "4      Eve   28     New York\n"
     ]
    }
   ],
   "source": [
    "\n",
    "data = {\n",
    "    'Name': ['Alice', 'Bob', 'Charlie', 'David', 'Eve'],\n",
    "    'Age': [25, 30, 35, 30, 28],\n",
    "    'City': ['New York', 'Los Angeles', 'Chicago', 'Los Angeles', 'New York']\n",
    "}\n",
    "\n",
    "df = pd.DataFrame(data)\n",
    "df_sorted = df.sort_values(by=['City'])\n",
    "print(df_sorted)\n"
   ]
  },
  {
   "cell_type": "code",
   "execution_count": 15,
   "id": "84d2e130",
   "metadata": {},
   "outputs": [
    {
     "name": "stdout",
     "output_type": "stream",
     "text": [
      "      Name  Age\n",
      "0    Alice   25\n",
      "1      Bob   30\n",
      "2  Charlie   35\n",
      "3    David   30\n",
      "4      Eve   28\n"
     ]
    }
   ],
   "source": [
    "\n",
    "\n",
    "\n",
    "data = {\n",
    "    'Name': ['Alice', 'Bob', 'Charlie', 'David', 'Eve'],\n",
    "    'Age': [25, 30, 35, 30, 28]\n",
    "}\n",
    "\n",
    "custom_index = ['A', 'B', 'C', 'D', 'E']\n",
    "\n",
    "df = pd.DataFrame(data, index=custom_index)\n",
    "\n",
    "df_reset = df.reset_index(drop=True)\n",
    "\n",
    "print(df_reset)\n"
   ]
  },
  {
   "cell_type": "code",
   "execution_count": 16,
   "id": "f854c046",
   "metadata": {},
   "outputs": [
    {
     "name": "stdout",
     "output_type": "stream",
     "text": [
      "    Name  Age\n",
      "0  Alice   25\n",
      "1    Bob   30\n"
     ]
    }
   ],
   "source": [
    "\n",
    "\n",
    "data = {\n",
    "    'Name': ['Alice', 'Bob', 'Charlie', 'David', 'Eve'],\n",
    "    'Age': [25, 30, 35, 30, 28]\n",
    "}\n",
    "\n",
    "df = pd.DataFrame(data)\n",
    "\n",
    "first_two_rows = df.head(2)\n",
    "\n",
    "print(first_two_rows)\n"
   ]
  },
  {
   "cell_type": "code",
   "execution_count": 17,
   "id": "4efbf73d",
   "metadata": {},
   "outputs": [
    {
     "name": "stdout",
     "output_type": "stream",
     "text": [
      "Occupation\n",
      "Doctor      77500.0\n",
      "Engineer    62500.0\n",
      "Teacher     45000.0\n",
      "Name: Salary, dtype: float64\n"
     ]
    }
   ],
   "source": [
    "data = {\n",
    "    'Name': ['Alice', 'Bob', 'Charlie', 'David', 'Eve'],\n",
    "    'Occupation': ['Engineer', 'Teacher', 'Doctor', 'Engineer', 'Doctor'],\n",
    "    'Salary': [60000, 45000, 75000, 65000, 80000]\n",
    "}\n",
    "\n",
    "df = pd.DataFrame(data)\n",
    "\n",
    "average_salary_per_occupation = df.groupby('Occupation')['Salary'].mean()\n",
    "\n",
    "print(average_salary_per_occupation)"
   ]
  },
  {
   "cell_type": "code",
   "execution_count": 18,
   "id": "652bbd01",
   "metadata": {},
   "outputs": [
    {
     "name": "stdout",
     "output_type": "stream",
     "text": [
      "     A    B    C\n",
      "0  1.0  0.0  1.0\n",
      "1  2.0  2.0  2.0\n",
      "2  0.0  3.0  3.0\n",
      "3  4.0  0.0  4.0\n",
      "4  5.0  5.0  0.0\n"
     ]
    }
   ],
   "source": [
    "import pandas as pd\n",
    "import numpy as np\n",
    "\n",
    "\n",
    "data = {\n",
    "    'A': [1, 2, np.nan, 4, 5],\n",
    "    'B': [np.nan, 2, 3, np.nan, 5],\n",
    "    'C': [1, 2, 3, 4, np.nan]\n",
    "}\n",
    "\n",
    "df = pd.DataFrame(data)\n",
    "\n",
    "df_filled = df.fillna(0)\n",
    "\n",
    "\n",
    "print(df_filled)\n"
   ]
  },
  {
   "cell_type": "code",
   "execution_count": 19,
   "id": "819732ef",
   "metadata": {},
   "outputs": [
    {
     "name": "stdout",
     "output_type": "stream",
     "text": [
      "       cname  profit\n",
      "0  Company A    True\n",
      "1  Company B   False\n",
      "2  Company C   False\n",
      "3  Company D    True\n"
     ]
    }
   ],
   "source": [
    "import pandas as pd\n",
    "\n",
    "data = {\n",
    "    'cname': ['Company A', 'Company B', 'Company C', 'Company D'],\n",
    "    'profit': [10000, -5000, 0, 7500]\n",
    "}\n",
    "\n",
    "df = pd.DataFrame(data)\n",
    "\n",
    "df['profit'] = df['profit'].apply(lambda x: x > 0)\n",
    "\n",
    "print(df)\n"
   ]
  },
  {
   "cell_type": "code",
   "execution_count": 20,
   "id": "81f81a1d",
   "metadata": {},
   "outputs": [
    {
     "name": "stdout",
     "output_type": "stream",
     "text": [
      "   eid    ename  stipend  position\n",
      "0  101    Alice     5000  Engineer\n",
      "1  102      Bob     6000       NaN\n",
      "2  103  Charlie     5500   Manager\n",
      "3  104    David     7000   Analyst\n"
     ]
    }
   ],
   "source": [
    "import pandas as pd\n",
    "\n",
    "data1 = {\n",
    "    'eid': [101, 102, 103, 104],\n",
    "    'ename': ['Alice', 'Bob', 'Charlie', 'David'],\n",
    "    'stipend': [5000, 6000, 5500, 7000]\n",
    "}\n",
    "\n",
    "data2 = {\n",
    "    'eid': [101, 103, 104, 105],\n",
    "    'designation': ['Engineer', 'Manager', 'Analyst', 'Technician']\n",
    "}\n",
    "\n",
    "df1 = pd.DataFrame(data1)\n",
    "df2 = pd.DataFrame(data2)\n",
    "\n",
    "result_df = df1.merge(df2, on='eid', how='left')\n",
    "\n",
    "result_df = result_df.rename(columns={'designation': 'position'})\n",
    "\n",
    "print(result_df)\n"
   ]
  },
  {
   "cell_type": "code",
   "execution_count": null,
   "id": "f9f81e08",
   "metadata": {},
   "outputs": [],
   "source": []
  }
 ],
 "metadata": {
  "kernelspec": {
   "display_name": "Python 3 (ipykernel)",
   "language": "python",
   "name": "python3"
  },
  "language_info": {
   "codemirror_mode": {
    "name": "ipython",
    "version": 3
   },
   "file_extension": ".py",
   "mimetype": "text/x-python",
   "name": "python",
   "nbconvert_exporter": "python",
   "pygments_lexer": "ipython3",
   "version": "3.11.4"
  }
 },
 "nbformat": 4,
 "nbformat_minor": 5
}
