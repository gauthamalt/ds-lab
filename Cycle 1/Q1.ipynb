{
 "cells": [
  {
   "cell_type": "code",
   "execution_count": null,
   "id": "5dcdc34a-660d-418b-94a4-6cfc38de6e60",
   "metadata": {},
   "outputs": [],
   "source": [
    "import numpy as np\n",
    "a = np.array([4,2,4,6])\n",
    "b = np.array([5,2,5,1])\n",
    "print(a,b)\n",
    "print(f\"check Greater{np.greater(a,b)}\")\n",
    "print(f\"check Greater Than or Equal To {np.greater_equal(a,b)}\")\n",
    "print(f\"check Smaller\" {np.greater})\n",
    "\n"
   ]
  }
 ],
 "metadata": {
  "kernelspec": {
   "display_name": "Python 3 (ipykernel)",
   "language": "python",
   "name": "python3"
  },
  "language_info": {
   "codemirror_mode": {
    "name": "ipython",
    "version": 3
   },
   "file_extension": ".py",
   "mimetype": "text/x-python",
   "name": "python",
   "nbconvert_exporter": "python",
   "pygments_lexer": "ipython3",
   "version": "3.10.12"
  }
 },
 "nbformat": 4,
 "nbformat_minor": 5
}
