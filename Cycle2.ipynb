{
 "cells": [
  {
   "cell_type": "code",
   "execution_count": 3,
   "id": "d213c358-b654-47af-b5ae-bb2d6ddfdd28",
   "metadata": {},
   "outputs": [
    {
     "name": "stdout",
     "output_type": "stream",
     "text": [
      "First\n",
      " [[1 2 3]\n",
      " [4 5 6]]\n",
      "Second\n",
      " [[ 7  8  9]\n",
      " [10 11 12]\n",
      " [ 1  2  3]]\n",
      "Dot product\n",
      " [[ 30  36  42]\n",
      " [ 84  99 114]]\n"
     ]
    }
   ],
   "source": [
    "import numpy as np\n",
    "\n",
    "a = np.array([[1,2,3],[4,5,6]])\n",
    "b = np.array([[7,8,9],[10,11,12],[1,2,3]])\n",
    "\n",
    "print(\"First\\n\",a)\n",
    "print(\"Second\\n\",b)\n",
    "\n",
    "dot_product = np.dot(a,b)\n",
    "\n",
    "print(\"Dot product\\n\",dot_product)"
   ]
  },
  {
   "cell_type": "code",
   "execution_count": 8,
   "id": "b9e89381-f473-4b12-a802-5b0513c3b3fe",
   "metadata": {},
   "outputs": [
    {
     "name": "stdout",
     "output_type": "stream",
     "text": [
      "First\n",
      " [[1 2 3]\n",
      " [4 5 6]]\n",
      "Second\n",
      " [[ 7  8  9]\n",
      " [10 11 12]\n",
      " [ 1  2  3]]\n",
      "---------------------------\n",
      "Transpose of A : \n",
      "[[1 4]\n",
      " [2 5]\n",
      " [3 6]]\n",
      "Transpose of B : \n",
      "[[ 7 10  1]\n",
      " [ 8 11  2]\n",
      " [ 9 12  3]]\n"
     ]
    }
   ],
   "source": [
    "transpose_a = np.transpose(a)\n",
    "transpose_b = np.transpose(b)\n",
    "\n",
    "print(\"First\\n\",a)\n",
    "print(\"Second\\n\",b)\n",
    "print(f\"---------------------------\")\n",
    "print(f\"Transpose of A : \\n{transpose_a}\")\n",
    "print(f\"Transpose of B : \\n{transpose_b}\")"
   ]
  },
  {
   "cell_type": "code",
   "execution_count": 9,
   "id": "91492514-267d-4987-98ed-58d80598f280",
   "metadata": {},
   "outputs": [
    {
     "name": "stdout",
     "output_type": "stream",
     "text": [
      "Trace of A : 6\n",
      "Trace of B: 21\n"
     ]
    }
   ],
   "source": [
    "\n",
    "print(f\"Trace of A : {np.trace(a)}\")\n",
    "print(f\"Trace of B: {np.trace(b)}\")\n",
    "\n"
   ]
  },
  {
   "cell_type": "code",
   "execution_count": 11,
   "id": "9c56a376-e9c3-4d2c-8604-4e4de28b5379",
   "metadata": {},
   "outputs": [
    {
     "name": "stdout",
     "output_type": "stream",
     "text": [
      "Rank of A : 2\n",
      "Rank of B: 2\n"
     ]
    }
   ],
   "source": [
    "print(f\"Rank of A : {np.linalg.matrix_rank(a)}\")\n",
    "print(f\"Rank of B: {np.linalg.matrix_rank(b)}\")"
   ]
  },
  {
   "cell_type": "code",
   "execution_count": 31,
   "id": "5b628211-ce60-4492-a882-d756c664017c",
   "metadata": {},
   "outputs": [
    {
     "name": "stdout",
     "output_type": "stream",
     "text": [
      "Determinant of A: 12\n",
      "Determinant of B: 28\n"
     ]
    }
   ],
   "source": [
    "x = np.array([[7,7,3],[4,5,6],[7,8,9]])\n",
    "y = np.array([[5,8,1],[7,9,3],[5,3,2]])\n",
    "\n",
    "det_a = int(np.linalg.det(x))\n",
    "det_b = int(np.linalg.det(y))\n",
    "print(f\"Determinant of A: {det_a}\")\n",
    "print(f\"Determinant of B: {det_b}\")"
   ]
  },
  {
   "cell_type": "code",
   "execution_count": 39,
   "id": "8e203b45-7240-4965-9e9e-69fdac297ecd",
   "metadata": {},
   "outputs": [
    {
     "name": "stdout",
     "output_type": "stream",
     "text": [
      "First\n",
      " [[7 7 3]\n",
      " [4 5 6]\n",
      " [7 8 9]]\n",
      "Second\n",
      " [[5 8 1]\n",
      " [7 9 3]\n",
      " [5 3 2]]\n",
      "Inverse of X:\n",
      "[[-0.25       -3.25        2.25      ]\n",
      " [ 0.5         3.5        -2.5       ]\n",
      " [-0.25       -0.58333333  0.58333333]]\n",
      "Inverse of Y:\n",
      "[[ 0.31034483 -0.44827586  0.51724138]\n",
      " [ 0.03448276  0.17241379 -0.27586207]\n",
      " [-0.82758621  0.86206897 -0.37931034]]\n"
     ]
    }
   ],
   "source": [
    "\n",
    "\n",
    "print(\"First\\n\",x)\n",
    "print(\"Second\\n\",y)\n",
    "\n",
    "inv_a = np.linalg.inv(x)\n",
    "inv_b = np.linalg.inv(y)\n",
    "\n",
    "print(f\"Inverse of X:\\n{inv_a}\")\n",
    "print(f\"Inverse of Y:\\n{inv_b}\")"
   ]
  },
  {
   "cell_type": "code",
   "execution_count": 43,
   "id": "f8e92717-c6e2-404c-8134-e46a27d97fca",
   "metadata": {},
   "outputs": [
    {
     "name": "stdout",
     "output_type": "stream",
     "text": [
      "Eigen value of M: [-0.23606798  4.23606798]\n",
      "Eigen vector of  M [[-0.85065081 -0.52573111]\n",
      " [ 0.52573111 -0.85065081]]\n"
     ]
    }
   ],
   "source": [
    "m = np.array([[1, 2],\n",
    "              [2, 3]])\n",
    "\n",
    "value,vector = np.linalg.eig(m)\n",
    "print(f\"Eigen value of M: {value}\")\n",
    "print(f\"Eigen vector of  M {vector}\")"
   ]
  },
  {
   "cell_type": "code",
   "execution_count": null,
   "id": "df012d92-2cb6-474c-90d6-153944693b19",
   "metadata": {},
   "outputs": [],
   "source": []
  }
 ],
 "metadata": {
  "kernelspec": {
   "display_name": "Python 3 (ipykernel)",
   "language": "python",
   "name": "python3"
  },
  "language_info": {
   "codemirror_mode": {
    "name": "ipython",
    "version": 3
   },
   "file_extension": ".py",
   "mimetype": "text/x-python",
   "name": "python",
   "nbconvert_exporter": "python",
   "pygments_lexer": "ipython3",
   "version": "3.10.12"
  }
 },
 "nbformat": 4,
 "nbformat_minor": 5
}
